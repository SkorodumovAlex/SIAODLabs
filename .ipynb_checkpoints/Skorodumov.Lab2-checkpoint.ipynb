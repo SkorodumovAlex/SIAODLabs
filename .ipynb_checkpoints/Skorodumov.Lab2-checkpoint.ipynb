{
 "cells": [
  {
   "cell_type": "markdown",
   "metadata": {},
   "source": [
    "Скородумов Александр"
   ]
  },
  {
   "cell_type": "markdown",
   "metadata": {},
   "source": [
    "БВТ1904"
   ]
  },
  {
   "cell_type": "markdown",
   "metadata": {},
   "source": [
    "Лабораторная работа №2 Методы поиска\n"
   ]
  },
  {
   "cell_type": "markdown",
   "metadata": {},
   "source": [
    "№1"
   ]
  },
  {
   "cell_type": "code",
   "execution_count": 26,
   "metadata": {},
   "outputs": [],
   "source": [
    "#Импорты\n",
    "from IPython.display import HTML, display\n",
    "from tabulate import tabulate\n",
    "import random\n",
    "import time"
   ]
  },
  {
   "cell_type": "code",
   "execution_count": 27,
   "metadata": {},
   "outputs": [],
   "source": [
    "#Рандомная генерация\n",
    "def random_matrix(m = 50, n = 50, min_limit = -250, max_limit = 1016):\n",
    "    return [[random.randint(min_limit, max_limit) for _ in range(n)] for _ in range(m)]"
   ]
  },
  {
   "cell_type": "code",
   "execution_count": 28,
   "metadata": {},
   "outputs": [],
   "source": [
    "#Бинарный поиск\n",
    "class BinarySearchMap:\n",
    "    def __init__(self):\n",
    "        self.data = [] # хранилище (key, value) значений\n",
    "\n",
    "    def search(self, key):\n",
    "        \"\"\" Поиск индекса (во всех случаях лучше левосторонний,\n",
    "            чтоб insert вставлял по убыванию) \"\"\"\n",
    "        l = 0\n",
    "        r = len(self.data)\n",
    "        while l < r:\n",
    "            m = (l + r) // 2\n",
    "            if self.data[m][0] < key:\n",
    "                l = m + 1\n",
    "            else:\n",
    "                r = m\n",
    "        return l    \n",
    "        \n",
    "    def __setitem__(self, key, value):\n",
    "        \"\"\" Добавить элемент \"\"\"\n",
    "        index = self.search(key)\n",
    "        # если ключ уже есть в таблице, то надо заменить значение\n",
    "        if index < len(self.data) and self.data[index][0] == key:\n",
    "            self.data[index] = (key, value)\n",
    "        else:\n",
    "            # иначе добавляем новую запись\n",
    "            self.data.insert(index, (key, value))\n",
    "    \n",
    "    def __delitem__(self, key):\n",
    "        \"\"\" Удалить элемент \"\"\"\n",
    "        index = self.search(key)\n",
    "        self.data.pop(index)\n",
    "    \n",
    "    def __getitem__(self, key):\n",
    "        \"\"\" Получить элемент \"\"\"\n",
    "        index = self.search(key)\n",
    "        found_key, val = self.data[index]\n",
    "        # если найденный индекс выдает запрашиваемый ключ\n",
    "        if found_key == key:\n",
    "            return val\n",
    "        raise KeyError()\n"
   ]
  },
  {
   "cell_type": "code",
   "execution_count": 29,
   "metadata": {},
   "outputs": [],
   "source": [
    "#Фибоначчиев поиск\n",
    "fib_c = [0, 1]\n",
    "def fib(n):\n",
    "    if len(fib_c) - 1 < n:\n",
    "        fib_c.append(fib(n - 1) + fib(n - 2))\n",
    "    return fib_c[n]\n",
    "\n",
    "class FibonacciMap(BinarySearchMap):\n",
    "    def search(self, key):\n",
    "        m = 0 \n",
    "        while fib(m) < len(self.data): \n",
    "            m += 1\n",
    "        offset = 0\n",
    "        while fib(m) > 1:\n",
    "            i = min(offset + fib(m - 1), len(self.data) - 1)\n",
    "            if key > self.data[i][0]:\n",
    "                offset = i\n",
    "            elif key == self.data[i][0]:\n",
    "                return i\n",
    "            m -= 1\n",
    "        if len(self.data) and self.data[offset][0] < key:\n",
    "            return offset + 1\n",
    "        return 0"
   ]
  },
  {
   "cell_type": "code",
   "execution_count": 30,
   "metadata": {},
   "outputs": [],
   "source": [
    "#Интерполяционный поиск\n",
    "def nearest_mid(input_list, lower_bound_index, upper_bound_index, search_value):\n",
    "    return lower_bound_index + \\\n",
    "        (upper_bound_index - lower_bound_index) * \\\n",
    "        (search_value - input_list[lower_bound_index]) // \\\n",
    "        (input_list[upper_bound_index][0] - input_list[lower_bound_index][0])\n",
    "\n",
    "class InterpolateMap(BinarySearchMap):\n",
    "    def interpolation_search(self, term):\n",
    "        size_of_list = len(self.data) - 1\n",
    "\n",
    "        index_of_first_element = 0\n",
    "        index_of_last_element = size_of_list\n",
    "\n",
    "        while index_of_first_element <= index_of_last_element:\n",
    "            mid_point = nearest_mid(self.data, index_of_first_element, index_of_last_element, term)\n",
    "\n",
    "            if mid_point > index_of_last_element or mid_point < index_of_first_element:\n",
    "                return None\n",
    "\n",
    "            if self.data[mid_point][0] == term:\n",
    "                return mid_point\n",
    "\n",
    "            if term > self.data[mid_point][0]:\n",
    "                index_of_first_element = mid_point + 1\n",
    "            else:\n",
    "                index_of_last_element = mid_point - 1\n",
    "\n",
    "        if index_of_first_element > index_of_last_element:\n",
    "            return None"
   ]
  },
  {
   "cell_type": "code",
   "execution_count": 31,
   "metadata": {},
   "outputs": [],
   "source": [
    "#Бинарное дерево\n",
    "class Tree:\n",
    "    def __init__(self, key, value):\n",
    "        self.key = key\n",
    "        self.value = value\n",
    "        self.left = self.right = None\n",
    "        \n",
    "class BinaryTreeMap:\n",
    "    root = None\n",
    "    \n",
    "    def insert(self, tree, key, value):\n",
    "        if tree is None:\n",
    "            return Tree(key, value)\n",
    "        if tree.key > key:\n",
    "            tree.left = self.insert(tree.left, key, value)\n",
    "        elif tree.key < key:\n",
    "            tree.right = self.insert(tree.right, key, value)\n",
    "        else:\n",
    "            tree.value = value\n",
    "        return tree\n",
    "            \n",
    "    def search(self, tree, key):\n",
    "        if tree is None or tree.key == key:\n",
    "            return tree\n",
    "        if tree.key > key:\n",
    "            return self.search(tree.left, key)\n",
    "        return self.search(tree.right, key)\n",
    "        \n",
    "    def __getitem__(self, key):\n",
    "        tree = self.search(self.root, key)\n",
    "        if tree is not None:\n",
    "            return tree.value\n",
    "        raise KeyError()\n",
    "    \n",
    "    def __setitem__(self, key, value):\n",
    "        if self.root is None:\n",
    "            self.root = self.insert(self.root, key, value)\n",
    "        else: self.insert(self.root, key, value)"
   ]
  },
  {
   "cell_type": "markdown",
   "metadata": {},
   "source": [
    "№2"
   ]
  },
  {
   "cell_type": "code",
   "execution_count": 32,
   "metadata": {},
   "outputs": [],
   "source": [
    "#Простое рехеширование\n",
    "class HashMap:\n",
    "    def __init__(self):\n",
    "        self.size = 0\n",
    "        self.data = []\n",
    "        self._resize()\n",
    "    \n",
    "    def _hash(self, key, i):\n",
    "        return (hash(key) + i) % len(self.data)\n",
    "        \n",
    "    def _find(self, key):\n",
    "        i = 0;\n",
    "        index = self._hash(key, i);\n",
    "        while self.data[index] is not None and self.data[index][0] != key:\n",
    "            i += 1\n",
    "            index = self._hash(key, i);\n",
    "        return index;\n",
    "    \n",
    "    def _resize(self):\n",
    "        temp = self.data\n",
    "        self.data = [None] * (2*len(self.data) + 1)\n",
    "        for item in temp:\n",
    "            if item is not None:\n",
    "                self.data[self._find(item[0])] = item\n",
    "    \n",
    "    def __setitem__(self, key, value):\n",
    "        if self.size + 1 > len(self.data) // 2:\n",
    "            self._resize()\n",
    "        index = self._find(key)\n",
    "        if self.data[index] is None:  \n",
    "            self.size += 1\n",
    "        self.data[index] = (key, value)\n",
    "    \n",
    "    def __getitem__(self, key):\n",
    "        index = self._find(key)\n",
    "        if self.data[index] is not None:\n",
    "            return self.data[index][1]\n",
    "        raise KeyError()"
   ]
  },
  {
   "cell_type": "code",
   "execution_count": 33,
   "metadata": {},
   "outputs": [],
   "source": [
    "#Рехеширование с помощью псевдослучайных чисел\n",
    "class RandomHashMap(HashMap):\n",
    "    _rand_c = [5323]\n",
    "    \n",
    "    def _rand(self, i):\n",
    "        if len(self._rand_c) - 1 < i:\n",
    "            self._rand_c.append(self._rand(i - 1))\n",
    "        return (123456789 * self._rand_c[i] + 987654321) % 65546\n",
    "        \n",
    "    def _hash(self, key, i):\n",
    "        return (hash(key) + self._rand(i)) % len(self.data)"
   ]
  },
  {
   "cell_type": "code",
   "execution_count": 34,
   "metadata": {},
   "outputs": [],
   "source": [
    "#Метод Цепочек\n",
    "class ChainMap:\n",
    "    def __init__(self):\n",
    "        self.size = 0\n",
    "        self.data = []\n",
    "        self._resize()\n",
    "    \n",
    "    def _hash(self, key):\n",
    "        return hash(key) % len(self.data)\n",
    "    \n",
    "    def _insert(self, index, item):\n",
    "        if self.data[index] is None:\n",
    "            self.data[index] = [item]\n",
    "            return True\n",
    "        else:\n",
    "            for i, item_ in enumerate(self.data[index]):\n",
    "                if item_[0] == item[0]:\n",
    "                    self.data[index][i] = item\n",
    "                    return False\n",
    "            self.data[index].append(item)\n",
    "            return True\n",
    "    \n",
    "    def _resize(self):\n",
    "        temp = self.data\n",
    "        self.data = [None] * (2*len(self.data) + 1)\n",
    "        for bucket in temp:\n",
    "            if bucket is not None:\n",
    "                for key, value in bucket:\n",
    "                    self._insert(self._hash(key), (key, value))\n",
    "    \n",
    "    def __setitem__(self, key, value):\n",
    "        if self.size + 1 > len(self.data) // 1.5:\n",
    "            self._resize()\n",
    "        if self._insert(self._hash(key), (key, value)):  \n",
    "            self.size += 1\n",
    "    \n",
    "    def __getitem__(self, key):\n",
    "        index = self._hash(key)\n",
    "        if self.data[index] is not None:\n",
    "            for key_, value in self.data[index]:\n",
    "                if key_ == key:\n",
    "                    return value\n",
    "        raise KeyError()"
   ]
  },
  {
   "cell_type": "markdown",
   "metadata": {},
   "source": [
    "Сравнение алгоритмов"
   ]
  },
  {
   "cell_type": "code",
   "execution_count": 35,
   "metadata": {},
   "outputs": [
    {
     "data": {
      "text/html": [
       "<table>\n",
       "<thead>\n",
       "<tr><th style=\"text-align: right;\">  </th><th>Алгоритм                                     </th><th style=\"text-align: right;\">      Время</th></tr>\n",
       "</thead>\n",
       "<tbody>\n",
       "<tr><td style=\"text-align: right;\"> 0</td><td>Стандартная функция поиска                   </td><td style=\"text-align: right;\">0.000429984</td></tr>\n",
       "<tr><td style=\"text-align: right;\"> 1</td><td>Простое рехэширование                        </td><td style=\"text-align: right;\">0.00502279 </td></tr>\n",
       "<tr><td style=\"text-align: right;\"> 2</td><td>Метод цепочек                                </td><td style=\"text-align: right;\">0.00579552 </td></tr>\n",
       "<tr><td style=\"text-align: right;\"> 3</td><td>Интерполяционный поиск                       </td><td style=\"text-align: right;\">0.00848867 </td></tr>\n",
       "<tr><td style=\"text-align: right;\"> 4</td><td>Рехэширование с помощью псевдослучайных чисел</td><td style=\"text-align: right;\">0.00906001 </td></tr>\n",
       "<tr><td style=\"text-align: right;\"> 5</td><td>Бинарный поиск                               </td><td style=\"text-align: right;\">0.00931886 </td></tr>\n",
       "<tr><td style=\"text-align: right;\"> 6</td><td>Бинарное дерево                              </td><td style=\"text-align: right;\">0.010458   </td></tr>\n",
       "<tr><td style=\"text-align: right;\"> 7</td><td>Фибоначчиева поиск                           </td><td style=\"text-align: right;\">0.0547007  </td></tr>\n",
       "</tbody>\n",
       "</table>"
      ],
      "text/plain": [
       "'<table>\\n<thead>\\n<tr><th style=\"text-align: right;\">  </th><th>Алгоритм                                     </th><th style=\"text-align: right;\">      Время</th></tr>\\n</thead>\\n<tbody>\\n<tr><td style=\"text-align: right;\"> 0</td><td>Стандартная функция поиска                   </td><td style=\"text-align: right;\">0.000429984</td></tr>\\n<tr><td style=\"text-align: right;\"> 1</td><td>Простое рехэширование                        </td><td style=\"text-align: right;\">0.00502279 </td></tr>\\n<tr><td style=\"text-align: right;\"> 2</td><td>Метод цепочек                                </td><td style=\"text-align: right;\">0.00579552 </td></tr>\\n<tr><td style=\"text-align: right;\"> 3</td><td>Интерполяционный поиск                       </td><td style=\"text-align: right;\">0.00848867 </td></tr>\\n<tr><td style=\"text-align: right;\"> 4</td><td>Рехэширование с помощью псевдослучайных чисел</td><td style=\"text-align: right;\">0.00906001 </td></tr>\\n<tr><td style=\"text-align: right;\"> 5</td><td>Бинарный поиск                               </td><td style=\"text-align: right;\">0.00931886 </td></tr>\\n<tr><td style=\"text-align: right;\"> 6</td><td>Бинарное дерево                              </td><td style=\"text-align: right;\">0.010458   </td></tr>\\n<tr><td style=\"text-align: right;\"> 7</td><td>Фибоначчиева поиск                           </td><td style=\"text-align: right;\">0.0547007  </td></tr>\\n</tbody>\\n</table>'"
      ]
     },
     "execution_count": 35,
     "metadata": {},
     "output_type": "execute_result"
    }
   ],
   "source": [
    "алгоритмы = {\n",
    "    'Бинарный поиск': BinarySearchMap,\n",
    "    'Фибоначчиева поиск': FibonacciMap,\n",
    "    'Интерполяционный поиск': InterpolateMap,\n",
    "    'Бинарное дерево': BinaryTreeMap,\n",
    "    'Простое рехэширование': HashMap,\n",
    "    'Рехэширование с помощью псевдослучайных чисел': RandomHashMap,\n",
    "    'Метод цепочек': ChainMap,\n",
    "    'Стандартная функция поиска': dict\n",
    "}\n",
    "\n",
    "\n",
    "затраченное_время = {}\n",
    "тестовые_набор = random_matrix(50, 1000)\n",
    "for имя_алгоритма, Таблица in алгоритмы.items():\n",
    "    копия_наборов = тестовые_набор.copy()\n",
    "    время_начало = time.perf_counter()\n",
    "    for набор in копия_наборов:\n",
    "        таблица = Таблица()\n",
    "        for значение, ключ in enumerate(набор):\n",
    "            таблица[ключ] = значение\n",
    "            assert таблица[ключ] == значение, f'Найденный элемент не соответствует записанному'\n",
    "    время_конца = time.perf_counter()\n",
    "    затраченное_время[имя_алгоритма] = (время_конца - время_начало) / len(тестовые_набор)\n",
    "\n",
    "отсортированная_таблица_затраченного_времени = sorted(затраченное_время.items(), key=lambda kv: kv[1])\n",
    "tabulate(отсортированная_таблица_затраченного_времени, headers=['Алгоритм','Время'], tablefmt='html', showindex=\"always\")"
   ]
  },
  {
   "cell_type": "markdown",
   "metadata": {},
   "source": [
    "№3"
   ]
  },
  {
   "cell_type": "code",
   "execution_count": 36,
   "metadata": {},
   "outputs": [],
   "source": [
    "#Вывод результата\n",
    "def tag(x, color='white'):\n",
    "    return f'<td style=\"width:24px;height:24px;text-align:center;\" bgcolor=\"{color}\">{x}</td>'\n",
    "th = ''.join(map(tag, ' abcdefgh '))\n",
    "def chessboard(data):\n",
    "    row = lambda i: ''.join([\n",
    "        tag('<span style=\"font-size:24px\">*</span>' * v,\n",
    "            color='white' if (i+j+1)%2 else 'silver')\n",
    "        for j, v in enumerate(data[i])])\n",
    "    tb = ''.join([f'<tr>{tag(8-i)}{row(i)}{tag(8-i)}</tr>' for i in range(len(data))])\n",
    "    return HTML(f'<table>{th}{tb}{th}</table>')"
   ]
  },
  {
   "cell_type": "code",
   "execution_count": 37,
   "metadata": {},
   "outputs": [
    {
     "data": {
      "text/html": [
       "<table><td style=\"width:24px;height:24px;text-align:center;\" bgcolor=\"white\"> </td><td style=\"width:24px;height:24px;text-align:center;\" bgcolor=\"white\">a</td><td style=\"width:24px;height:24px;text-align:center;\" bgcolor=\"white\">b</td><td style=\"width:24px;height:24px;text-align:center;\" bgcolor=\"white\">c</td><td style=\"width:24px;height:24px;text-align:center;\" bgcolor=\"white\">d</td><td style=\"width:24px;height:24px;text-align:center;\" bgcolor=\"white\">e</td><td style=\"width:24px;height:24px;text-align:center;\" bgcolor=\"white\">f</td><td style=\"width:24px;height:24px;text-align:center;\" bgcolor=\"white\">g</td><td style=\"width:24px;height:24px;text-align:center;\" bgcolor=\"white\">h</td><td style=\"width:24px;height:24px;text-align:center;\" bgcolor=\"white\"> </td><tr><td style=\"width:24px;height:24px;text-align:center;\" bgcolor=\"white\">8</td><td style=\"width:24px;height:24px;text-align:center;\" bgcolor=\"white\"></td><td style=\"width:24px;height:24px;text-align:center;\" bgcolor=\"silver\"></td><td style=\"width:24px;height:24px;text-align:center;\" bgcolor=\"white\"></td><td style=\"width:24px;height:24px;text-align:center;\" bgcolor=\"silver\"></td><td style=\"width:24px;height:24px;text-align:center;\" bgcolor=\"white\"></td><td style=\"width:24px;height:24px;text-align:center;\" bgcolor=\"silver\"></td><td style=\"width:24px;height:24px;text-align:center;\" bgcolor=\"white\"></td><td style=\"width:24px;height:24px;text-align:center;\" bgcolor=\"silver\"></td><td style=\"width:24px;height:24px;text-align:center;\" bgcolor=\"white\">8</td></tr><tr><td style=\"width:24px;height:24px;text-align:center;\" bgcolor=\"white\">7</td><td style=\"width:24px;height:24px;text-align:center;\" bgcolor=\"silver\"></td><td style=\"width:24px;height:24px;text-align:center;\" bgcolor=\"white\"></td><td style=\"width:24px;height:24px;text-align:center;\" bgcolor=\"silver\"><span style=\"font-size:24px\">*</span></td><td style=\"width:24px;height:24px;text-align:center;\" bgcolor=\"white\"></td><td style=\"width:24px;height:24px;text-align:center;\" bgcolor=\"silver\"></td><td style=\"width:24px;height:24px;text-align:center;\" bgcolor=\"white\"></td><td style=\"width:24px;height:24px;text-align:center;\" bgcolor=\"silver\"></td><td style=\"width:24px;height:24px;text-align:center;\" bgcolor=\"white\"></td><td style=\"width:24px;height:24px;text-align:center;\" bgcolor=\"white\">7</td></tr><tr><td style=\"width:24px;height:24px;text-align:center;\" bgcolor=\"white\">6</td><td style=\"width:24px;height:24px;text-align:center;\" bgcolor=\"white\"></td><td style=\"width:24px;height:24px;text-align:center;\" bgcolor=\"silver\"></td><td style=\"width:24px;height:24px;text-align:center;\" bgcolor=\"white\"></td><td style=\"width:24px;height:24px;text-align:center;\" bgcolor=\"silver\"></td><td style=\"width:24px;height:24px;text-align:center;\" bgcolor=\"white\"></td><td style=\"width:24px;height:24px;text-align:center;\" bgcolor=\"silver\"></td><td style=\"width:24px;height:24px;text-align:center;\" bgcolor=\"white\"></td><td style=\"width:24px;height:24px;text-align:center;\" bgcolor=\"silver\"></td><td style=\"width:24px;height:24px;text-align:center;\" bgcolor=\"white\">6</td></tr><tr><td style=\"width:24px;height:24px;text-align:center;\" bgcolor=\"white\">5</td><td style=\"width:24px;height:24px;text-align:center;\" bgcolor=\"silver\"></td><td style=\"width:24px;height:24px;text-align:center;\" bgcolor=\"white\"></td><td style=\"width:24px;height:24px;text-align:center;\" bgcolor=\"silver\"></td><td style=\"width:24px;height:24px;text-align:center;\" bgcolor=\"white\"></td><td style=\"width:24px;height:24px;text-align:center;\" bgcolor=\"silver\"></td><td style=\"width:24px;height:24px;text-align:center;\" bgcolor=\"white\"></td><td style=\"width:24px;height:24px;text-align:center;\" bgcolor=\"silver\"></td><td style=\"width:24px;height:24px;text-align:center;\" bgcolor=\"white\"></td><td style=\"width:24px;height:24px;text-align:center;\" bgcolor=\"white\">5</td></tr><tr><td style=\"width:24px;height:24px;text-align:center;\" bgcolor=\"white\">4</td><td style=\"width:24px;height:24px;text-align:center;\" bgcolor=\"white\"></td><td style=\"width:24px;height:24px;text-align:center;\" bgcolor=\"silver\"></td><td style=\"width:24px;height:24px;text-align:center;\" bgcolor=\"white\"></td><td style=\"width:24px;height:24px;text-align:center;\" bgcolor=\"silver\"></td><td style=\"width:24px;height:24px;text-align:center;\" bgcolor=\"white\"></td><td style=\"width:24px;height:24px;text-align:center;\" bgcolor=\"silver\"></td><td style=\"width:24px;height:24px;text-align:center;\" bgcolor=\"white\"></td><td style=\"width:24px;height:24px;text-align:center;\" bgcolor=\"silver\"></td><td style=\"width:24px;height:24px;text-align:center;\" bgcolor=\"white\">4</td></tr><tr><td style=\"width:24px;height:24px;text-align:center;\" bgcolor=\"white\">3</td><td style=\"width:24px;height:24px;text-align:center;\" bgcolor=\"silver\"></td><td style=\"width:24px;height:24px;text-align:center;\" bgcolor=\"white\"></td><td style=\"width:24px;height:24px;text-align:center;\" bgcolor=\"silver\"></td><td style=\"width:24px;height:24px;text-align:center;\" bgcolor=\"white\"></td><td style=\"width:24px;height:24px;text-align:center;\" bgcolor=\"silver\"></td><td style=\"width:24px;height:24px;text-align:center;\" bgcolor=\"white\"></td><td style=\"width:24px;height:24px;text-align:center;\" bgcolor=\"silver\"></td><td style=\"width:24px;height:24px;text-align:center;\" bgcolor=\"white\"></td><td style=\"width:24px;height:24px;text-align:center;\" bgcolor=\"white\">3</td></tr><tr><td style=\"width:24px;height:24px;text-align:center;\" bgcolor=\"white\">2</td><td style=\"width:24px;height:24px;text-align:center;\" bgcolor=\"white\"></td><td style=\"width:24px;height:24px;text-align:center;\" bgcolor=\"silver\"></td><td style=\"width:24px;height:24px;text-align:center;\" bgcolor=\"white\"></td><td style=\"width:24px;height:24px;text-align:center;\" bgcolor=\"silver\"></td><td style=\"width:24px;height:24px;text-align:center;\" bgcolor=\"white\"></td><td style=\"width:24px;height:24px;text-align:center;\" bgcolor=\"silver\"></td><td style=\"width:24px;height:24px;text-align:center;\" bgcolor=\"white\"></td><td style=\"width:24px;height:24px;text-align:center;\" bgcolor=\"silver\"></td><td style=\"width:24px;height:24px;text-align:center;\" bgcolor=\"white\">2</td></tr><tr><td style=\"width:24px;height:24px;text-align:center;\" bgcolor=\"white\">1</td><td style=\"width:24px;height:24px;text-align:center;\" bgcolor=\"silver\"></td><td style=\"width:24px;height:24px;text-align:center;\" bgcolor=\"white\"></td><td style=\"width:24px;height:24px;text-align:center;\" bgcolor=\"silver\"></td><td style=\"width:24px;height:24px;text-align:center;\" bgcolor=\"white\"></td><td style=\"width:24px;height:24px;text-align:center;\" bgcolor=\"silver\"></td><td style=\"width:24px;height:24px;text-align:center;\" bgcolor=\"white\"></td><td style=\"width:24px;height:24px;text-align:center;\" bgcolor=\"silver\"></td><td style=\"width:24px;height:24px;text-align:center;\" bgcolor=\"white\"></td><td style=\"width:24px;height:24px;text-align:center;\" bgcolor=\"white\">1</td></tr><td style=\"width:24px;height:24px;text-align:center;\" bgcolor=\"white\"> </td><td style=\"width:24px;height:24px;text-align:center;\" bgcolor=\"white\">a</td><td style=\"width:24px;height:24px;text-align:center;\" bgcolor=\"white\">b</td><td style=\"width:24px;height:24px;text-align:center;\" bgcolor=\"white\">c</td><td style=\"width:24px;height:24px;text-align:center;\" bgcolor=\"white\">d</td><td style=\"width:24px;height:24px;text-align:center;\" bgcolor=\"white\">e</td><td style=\"width:24px;height:24px;text-align:center;\" bgcolor=\"white\">f</td><td style=\"width:24px;height:24px;text-align:center;\" bgcolor=\"white\">g</td><td style=\"width:24px;height:24px;text-align:center;\" bgcolor=\"white\">h</td><td style=\"width:24px;height:24px;text-align:center;\" bgcolor=\"white\"> </td></table>"
      ],
      "text/plain": [
       "<IPython.core.display.HTML object>"
      ]
     },
     "execution_count": 37,
     "metadata": {},
     "output_type": "execute_result"
    }
   ],
   "source": [
    "#Создание доски\n",
    "arr = [[0] * 8 for i in range(8)]\n",
    "arr[1][2] = 1\n",
    "chessboard(arr)"
   ]
  },
  {
   "cell_type": "code",
   "execution_count": 39,
   "metadata": {},
   "outputs": [
    {
     "data": {
      "text/html": [
       "<table><td style=\"width:24px;height:24px;text-align:center;\" bgcolor=\"white\"> </td><td style=\"width:24px;height:24px;text-align:center;\" bgcolor=\"white\">a</td><td style=\"width:24px;height:24px;text-align:center;\" bgcolor=\"white\">b</td><td style=\"width:24px;height:24px;text-align:center;\" bgcolor=\"white\">c</td><td style=\"width:24px;height:24px;text-align:center;\" bgcolor=\"white\">d</td><td style=\"width:24px;height:24px;text-align:center;\" bgcolor=\"white\">e</td><td style=\"width:24px;height:24px;text-align:center;\" bgcolor=\"white\">f</td><td style=\"width:24px;height:24px;text-align:center;\" bgcolor=\"white\">g</td><td style=\"width:24px;height:24px;text-align:center;\" bgcolor=\"white\">h</td><td style=\"width:24px;height:24px;text-align:center;\" bgcolor=\"white\"> </td><tr><td style=\"width:24px;height:24px;text-align:center;\" bgcolor=\"white\">8</td><td style=\"width:24px;height:24px;text-align:center;\" bgcolor=\"white\"><span style=\"font-size:24px\">*</span></td><td style=\"width:24px;height:24px;text-align:center;\" bgcolor=\"silver\"></td><td style=\"width:24px;height:24px;text-align:center;\" bgcolor=\"white\"></td><td style=\"width:24px;height:24px;text-align:center;\" bgcolor=\"silver\"></td><td style=\"width:24px;height:24px;text-align:center;\" bgcolor=\"white\"></td><td style=\"width:24px;height:24px;text-align:center;\" bgcolor=\"silver\"></td><td style=\"width:24px;height:24px;text-align:center;\" bgcolor=\"white\"></td><td style=\"width:24px;height:24px;text-align:center;\" bgcolor=\"silver\"></td><td style=\"width:24px;height:24px;text-align:center;\" bgcolor=\"white\">8</td></tr><tr><td style=\"width:24px;height:24px;text-align:center;\" bgcolor=\"white\">7</td><td style=\"width:24px;height:24px;text-align:center;\" bgcolor=\"silver\"></td><td style=\"width:24px;height:24px;text-align:center;\" bgcolor=\"white\"></td><td style=\"width:24px;height:24px;text-align:center;\" bgcolor=\"silver\"></td><td style=\"width:24px;height:24px;text-align:center;\" bgcolor=\"white\"></td><td style=\"width:24px;height:24px;text-align:center;\" bgcolor=\"silver\"><span style=\"font-size:24px\">*</span></td><td style=\"width:24px;height:24px;text-align:center;\" bgcolor=\"white\"></td><td style=\"width:24px;height:24px;text-align:center;\" bgcolor=\"silver\"></td><td style=\"width:24px;height:24px;text-align:center;\" bgcolor=\"white\"></td><td style=\"width:24px;height:24px;text-align:center;\" bgcolor=\"white\">7</td></tr><tr><td style=\"width:24px;height:24px;text-align:center;\" bgcolor=\"white\">6</td><td style=\"width:24px;height:24px;text-align:center;\" bgcolor=\"white\"></td><td style=\"width:24px;height:24px;text-align:center;\" bgcolor=\"silver\"></td><td style=\"width:24px;height:24px;text-align:center;\" bgcolor=\"white\"></td><td style=\"width:24px;height:24px;text-align:center;\" bgcolor=\"silver\"></td><td style=\"width:24px;height:24px;text-align:center;\" bgcolor=\"white\"></td><td style=\"width:24px;height:24px;text-align:center;\" bgcolor=\"silver\"></td><td style=\"width:24px;height:24px;text-align:center;\" bgcolor=\"white\"></td><td style=\"width:24px;height:24px;text-align:center;\" bgcolor=\"silver\"><span style=\"font-size:24px\">*</span></td><td style=\"width:24px;height:24px;text-align:center;\" bgcolor=\"white\">6</td></tr><tr><td style=\"width:24px;height:24px;text-align:center;\" bgcolor=\"white\">5</td><td style=\"width:24px;height:24px;text-align:center;\" bgcolor=\"silver\"></td><td style=\"width:24px;height:24px;text-align:center;\" bgcolor=\"white\"></td><td style=\"width:24px;height:24px;text-align:center;\" bgcolor=\"silver\"></td><td style=\"width:24px;height:24px;text-align:center;\" bgcolor=\"white\"></td><td style=\"width:24px;height:24px;text-align:center;\" bgcolor=\"silver\"></td><td style=\"width:24px;height:24px;text-align:center;\" bgcolor=\"white\"><span style=\"font-size:24px\">*</span></td><td style=\"width:24px;height:24px;text-align:center;\" bgcolor=\"silver\"></td><td style=\"width:24px;height:24px;text-align:center;\" bgcolor=\"white\"></td><td style=\"width:24px;height:24px;text-align:center;\" bgcolor=\"white\">5</td></tr><tr><td style=\"width:24px;height:24px;text-align:center;\" bgcolor=\"white\">4</td><td style=\"width:24px;height:24px;text-align:center;\" bgcolor=\"white\"></td><td style=\"width:24px;height:24px;text-align:center;\" bgcolor=\"silver\"></td><td style=\"width:24px;height:24px;text-align:center;\" bgcolor=\"white\"><span style=\"font-size:24px\">*</span></td><td style=\"width:24px;height:24px;text-align:center;\" bgcolor=\"silver\"></td><td style=\"width:24px;height:24px;text-align:center;\" bgcolor=\"white\"></td><td style=\"width:24px;height:24px;text-align:center;\" bgcolor=\"silver\"></td><td style=\"width:24px;height:24px;text-align:center;\" bgcolor=\"white\"></td><td style=\"width:24px;height:24px;text-align:center;\" bgcolor=\"silver\"></td><td style=\"width:24px;height:24px;text-align:center;\" bgcolor=\"white\">4</td></tr><tr><td style=\"width:24px;height:24px;text-align:center;\" bgcolor=\"white\">3</td><td style=\"width:24px;height:24px;text-align:center;\" bgcolor=\"silver\"></td><td style=\"width:24px;height:24px;text-align:center;\" bgcolor=\"white\"></td><td style=\"width:24px;height:24px;text-align:center;\" bgcolor=\"silver\"></td><td style=\"width:24px;height:24px;text-align:center;\" bgcolor=\"white\"></td><td style=\"width:24px;height:24px;text-align:center;\" bgcolor=\"silver\"></td><td style=\"width:24px;height:24px;text-align:center;\" bgcolor=\"white\"></td><td style=\"width:24px;height:24px;text-align:center;\" bgcolor=\"silver\"><span style=\"font-size:24px\">*</span></td><td style=\"width:24px;height:24px;text-align:center;\" bgcolor=\"white\"></td><td style=\"width:24px;height:24px;text-align:center;\" bgcolor=\"white\">3</td></tr><tr><td style=\"width:24px;height:24px;text-align:center;\" bgcolor=\"white\">2</td><td style=\"width:24px;height:24px;text-align:center;\" bgcolor=\"white\"></td><td style=\"width:24px;height:24px;text-align:center;\" bgcolor=\"silver\"><span style=\"font-size:24px\">*</span></td><td style=\"width:24px;height:24px;text-align:center;\" bgcolor=\"white\"></td><td style=\"width:24px;height:24px;text-align:center;\" bgcolor=\"silver\"></td><td style=\"width:24px;height:24px;text-align:center;\" bgcolor=\"white\"></td><td style=\"width:24px;height:24px;text-align:center;\" bgcolor=\"silver\"></td><td style=\"width:24px;height:24px;text-align:center;\" bgcolor=\"white\"></td><td style=\"width:24px;height:24px;text-align:center;\" bgcolor=\"silver\"></td><td style=\"width:24px;height:24px;text-align:center;\" bgcolor=\"white\">2</td></tr><tr><td style=\"width:24px;height:24px;text-align:center;\" bgcolor=\"white\">1</td><td style=\"width:24px;height:24px;text-align:center;\" bgcolor=\"silver\"></td><td style=\"width:24px;height:24px;text-align:center;\" bgcolor=\"white\"></td><td style=\"width:24px;height:24px;text-align:center;\" bgcolor=\"silver\"></td><td style=\"width:24px;height:24px;text-align:center;\" bgcolor=\"white\"><span style=\"font-size:24px\">*</span></td><td style=\"width:24px;height:24px;text-align:center;\" bgcolor=\"silver\"></td><td style=\"width:24px;height:24px;text-align:center;\" bgcolor=\"white\"></td><td style=\"width:24px;height:24px;text-align:center;\" bgcolor=\"silver\"></td><td style=\"width:24px;height:24px;text-align:center;\" bgcolor=\"white\"></td><td style=\"width:24px;height:24px;text-align:center;\" bgcolor=\"white\">1</td></tr><td style=\"width:24px;height:24px;text-align:center;\" bgcolor=\"white\"> </td><td style=\"width:24px;height:24px;text-align:center;\" bgcolor=\"white\">a</td><td style=\"width:24px;height:24px;text-align:center;\" bgcolor=\"white\">b</td><td style=\"width:24px;height:24px;text-align:center;\" bgcolor=\"white\">c</td><td style=\"width:24px;height:24px;text-align:center;\" bgcolor=\"white\">d</td><td style=\"width:24px;height:24px;text-align:center;\" bgcolor=\"white\">e</td><td style=\"width:24px;height:24px;text-align:center;\" bgcolor=\"white\">f</td><td style=\"width:24px;height:24px;text-align:center;\" bgcolor=\"white\">g</td><td style=\"width:24px;height:24px;text-align:center;\" bgcolor=\"white\">h</td><td style=\"width:24px;height:24px;text-align:center;\" bgcolor=\"white\"> </td></table>"
      ],
      "text/plain": [
       "<IPython.core.display.HTML object>"
      ]
     },
     "execution_count": 39,
     "metadata": {},
     "output_type": "execute_result"
    }
   ],
   "source": [
    "#Алгоритм\n",
    "def check_place(rows, row, column):\n",
    "    \"\"\" Проверяет, если board[column][row] под атакой других ферзей \"\"\"\n",
    "    for i in range(row):\n",
    "        if rows[i] == column or \\\n",
    "            rows[i] - i == column - row or \\\n",
    "            rows[i] + i == column + row:\n",
    "            return False\n",
    "    return True\n",
    "\n",
    "total_shown = 0\n",
    "def put_queen(rows=[0]*8, row=0):\n",
    "    \"\"\" Пытается подобрать место для ферзя, которое не находится под атакой других \"\"\"\n",
    "    if row == 8: # мы уместили всех 8 ферзей и можем показать доску\n",
    "        arr = [[0] * 8 for i in range(8)]\n",
    "        for row, column in enumerate(rows):\n",
    "            arr[row][column] = 1\n",
    "        return chessboard(arr)\n",
    "    else:\n",
    "        for column in range(8):\n",
    "            if check_place(rows, row, column):\n",
    "                rows[row] = column\n",
    "                board = put_queen(rows, row + 1)\n",
    "                if board: return board\n",
    "    \n",
    "put_queen()"
   ]
  }
 ],
 "metadata": {
  "kernelspec": {
   "display_name": "Python 3",
   "language": "python",
   "name": "python3"
  },
  "language_info": {
   "codemirror_mode": {
    "name": "ipython",
    "version": 3
   },
   "file_extension": ".py",
   "mimetype": "text/x-python",
   "name": "python",
   "nbconvert_exporter": "python",
   "pygments_lexer": "ipython3",
   "version": "3.8.5"
  }
 },
 "nbformat": 4,
 "nbformat_minor": 4
}
